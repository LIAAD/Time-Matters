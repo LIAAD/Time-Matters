{
 "cells": [
  {
   "cell_type": "code",
   "execution_count": 2,
   "metadata": {},
   "outputs": [
    {
     "name": "stdout",
     "output_type": "stream",
     "text": [
      "     w1    w2   w3    w4    w5    w6    d1    d2    d3    d4\n",
      "w1  1.0  0.50  1.0  0.50  0.50  0.50  0.50  0.80  0.80  0.50\n",
      "w2  0.5  1.00  0.5  0.00  0.00  0.00  1.00  0.66  0.66  1.00\n",
      "w3  1.0  0.50  1.0  0.50  0.50  0.50  0.50  0.80  0.80  0.50\n",
      "w4  0.5  0.00  0.5  1.00  1.00  0.00  0.00  0.00  0.66  0.00\n",
      "w5  0.5  0.00  0.5  1.00  1.00  0.00  0.00  0.00  0.66  0.00\n",
      "w6  0.5  0.00  0.5  0.00  0.00  1.00  0.00  0.66  0.00  0.00\n",
      "d1  0.5  0.50  0.5  0.00  0.00  0.00  1.00  0.66  0.66  1.00\n",
      "d2  0.8  0.66  0.8  0.00  0.00  0.66  0.66  1.00  0.50  0.66\n",
      "d3  0.8  0.66  0.8  0.66  0.66  0.00  0.66  0.50  1.00  0.66\n",
      "d4  0.5  1.00  0.5  0.00  0.00  0.00  1.00  0.66  0.66  1.00\n"
     ]
    }
   ],
   "source": [
    "import pandas as pd\n",
    "\n",
    "Cars = {'w1': [1, 0.5, 1, 0.5,0.5 ,0.5 ,0.5 , 0.8, 0.8, 0.5],\n",
    "        'w2': [0.5, 1, 0.5, 0, 0, 0, 0.5, 0.66, 0.66, 1],\n",
    "        'w3': [1, 0.5, 1, 0.5, 0.5, 0.5, 0.5, 0.8, 0.8, 0.5],\n",
    "        'w4': [0.5, 0, 0.5, 1, 1, 0, 0, 0, 0.66,0],\n",
    "        'w5': [0.5, 0, 0.5, 1, 1, 0, 0, 0, 0.66,0],\n",
    "        'w6': [0.5, 0, 0.5, 0, 0, 1, 0, 0.66, 0,0],\n",
    "        'd1': [0.5, 1, 0.5, 0, 0, 0, 1, 0.66, 0.66, 1,],\n",
    "        'd2': [0.8, 0.66, 0.8, 0, 0, 0.66, 0.66, 1, 0.5, 0.66],\n",
    "        'd3': [0.8, 0.66, 0.8, 0.66, 0.66, 0, 0.66, 0.5, 1, 0.66],\n",
    "        'd4': [0.5 , 1, 0.5, 0,0, 0,1, 0.66, 0.66, 1]\n",
    "        }\n",
    "dfObj = pd.DataFrame(Cars, columns = ['w1', 'w2','w3','w4','w5','w6','d1', 'd2','d3', 'd4'], index=['w1', 'w2','w3','w4','w5','w6','d1', 'd2','d3', 'd4'])\n",
    "\n",
    "\n",
    "print (dfObj)"
   ]
  },
  {
   "cell_type": "code",
   "execution_count": 3,
   "metadata": {},
   "outputs": [],
   "source": [
    "from itertools import product \n",
    "def calc_sim_vector(word, date, date_ultimate_array, word_ultimate_array, dataframe):\n",
    "    # calc dates sim vector\n",
    "    date_vector_result = 0\n",
    "    word_vector_result = 0\n",
    "    # calc date sim context vector\n",
    "    for dt_x, dt_y in product(date_ultimate_array, date_ultimate_array):\n",
    "        value = dataframe.loc[dt_x, dt_y]\n",
    "        date_vector_result += value\n",
    "\n",
    "    # calc words sim context vector\n",
    "    for word_x, word_y in product(word_ultimate_array, word_ultimate_array):\n",
    "        value = dataframe.loc[word_x, word_y]\n",
    "        word_vector_result += value\n",
    "\n",
    "\n",
    "    date_word_vector_result =  sim_word_date_vector(word, date, date_vector_result, word_vector_result, date_ultimate_array, word_ultimate_array, dataframe)\n",
    "    result = sim_calc(date_vector_result, word_vector_result , date_word_vector_result)\n",
    "    return result\n",
    "\n",
    "\n",
    "# *******************************************************************************************\n",
    "# calc the sim of dates with word vectors\n",
    "def sim_word_date_vector(word, date, date_result, word_result, date_ultimate_array, word_ultimate_array, dataframe):\n",
    "    date_word_result = 0\n",
    "    print(date, '=>', date_ultimate_array, 'result= ', date_result)\n",
    "    print(word, '=>', word_ultimate_array, 'result= ', word_result)\n",
    "    for dt , word in product(date_ultimate_array, word_ultimate_array):\n",
    "        value = dataframe.loc[dt, word]\n",
    "        date_word_result += value\n",
    "    print('('+date+', '+word+')'+' result' , date_word_result)\n",
    "    return date_word_result\n",
    "\n",
    "\n",
    "# ***************************************************************************************\n",
    "# calc of GTE\n",
    "def sim_calc(date_vector_result, word_vector_result , date_word_vector_result ):\n",
    "\n",
    "    if date_word_vector_result <= 0:\n",
    "        result = 0\n",
    "    else:\n",
    "        try:\n",
    "            result = date_word_vector_result / (date_vector_result + word_vector_result - date_word_vector_result)\n",
    "        except:\n",
    "            result = 0\n",
    "    #print(result)\n",
    "    #print('\\n')\n",
    "    return result"
   ]
  },
  {
   "cell_type": "code",
   "execution_count": 9,
   "metadata": {},
   "outputs": [
    {
     "name": "stdout",
     "output_type": "stream",
     "text": [
      "w1 => ['w3', 'd2'] result=  3.6\n",
      "d1 => ['w2', 'd4'] result=  4.0\n",
      "(w1, d4) result 2.3200000000000003\n"
     ]
    },
    {
     "data": {
      "text/plain": [
       "0.4393939393939395"
      ]
     },
     "execution_count": 9,
     "metadata": {},
     "output_type": "execute_result"
    }
   ],
   "source": [
    "date_ultimate_array = ['w3','d2']\n",
    "word_ultimate_array = ['w2','d4']\n",
    "\n",
    "calc_sim_vector('d1','w1',date_ultimate_array, word_ultimate_array, dfObj)"
   ]
  },
  {
   "cell_type": "code",
   "execution_count": null,
   "metadata": {},
   "outputs": [],
   "source": []
  }
 ],
 "metadata": {
  "kernelspec": {
   "display_name": "Python 3",
   "language": "python",
   "name": "python3"
  },
  "language_info": {
   "codemirror_mode": {
    "name": "ipython",
    "version": 3
   },
   "file_extension": ".py",
   "mimetype": "text/x-python",
   "name": "python",
   "nbconvert_exporter": "python",
   "pygments_lexer": "ipython3",
   "version": "3.7.3"
  }
 },
 "nbformat": 4,
 "nbformat_minor": 2
}
