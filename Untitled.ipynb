{
 "cells": [
  {
   "cell_type": "code",
   "execution_count": null,
   "metadata": {},
   "outputs": [],
   "source": [
    "from Time_Matters_MultipleDoc import Time_Matters_MultipleDoc   "
   ]
  },
  {
   "cell_type": "code",
   "execution_count": null,
   "metadata": {},
   "outputs": [],
   "source": [
    "list_of_docs2 = ['''I born at Portugal. Born and raised on the Portuguese island of Madeira, Ronaldo was diagnosed with a racing heart at age 15. He underwent an operation to treat his condition, and began his senior club career playing for Sporting CP, before signing with Manchester United at age 18 in 2003.''',\n",
    "                '''As a child, Born Ronaldo played for amateur team Andorinha from 1992 to 1995,[14] where his father was the kit man,[15] and later spent two years with Nacional. In 1997, aged 12, he went on a three-day trial with Sporting CP, who signed him for a fee of £1,500.[16][17] He subsequently moved from Madeira to Alcochete, near Lisbon, to join Sporting's other youth players at the club's football academy.''',\n",
    "                '''2000 Ronaldo made his official debut for Juventus in their opening Serie A match on 18 August, a 3–2 away win over Chievo.[289] On 16 September, his fourth appearance for Juventus, he scored his first goal, which was immediately followed by a second, in a 2–1 home win over Sassuolo; the latter was the 400th league goal of his career.[290][291] On 19 September, in his first Champions League match for Juventus, he was sent off in the 29th minute for \"violent conduct\"—the first time in 154 Champions League appearances—in an eventual 2–0 away win over Valencia''']\n"
   ]
  },
  {
   "cell_type": "code",
   "execution_count": null,
   "metadata": {},
   "outputs": [],
   "source": [
    "list_of_docs3 = ['''Manchester United Football Club is a professional football club based in Old Trafford, Greater Manchester, England, that competes in the Premier League, the top flight of English football. Nicknamed \"the Red Devils\", the club was founded as Newton Heath LYR Football Club in 1878, changed its name to Manchester United in 1902 and moved to its current stadium, Old Trafford, in 1910. Manchester United have won more trophies than any other club in English football,[5][6] with a record 20 League titles, 12 FA Cups, 5 League Cups and a record 21 FA Community Shields. United have also won 3 UEFA Champions Leagues, 1 UEFA Europa League, 1 UEFA Cup Winners' Cup, 1 UEFA Super Cup, 1 Intercontinental Cup and 1 FIFA Club World Cup. In 1998–99, the club became the first in the history of English football to achieve the continental European treble.[7] By winning the UEFA Europa League in 2016–17, they became one of five clubs to have won all three main UEFA club competitions.''',\n",
    "'''Manchester United was the highest-earning football club in the world for 2016–17, with an annual revenue of €676.3 million,[11] and the world's 2002–03 most valuable football club in 2018, valued at £3.1 billion.[12] As of June 2015, it is the world's most valuable football brand, estimated to be worth $1.2 billion.[13][14] After being floated on the London Stock Exchange in 1991, the club was purchased by Malcolm Glazer in May 2005 in a deal valuing the club at almost £800 million, after which the company was taken private again, before going public once more in August 2012, when they made an initial public offering on the New York Stock Exchange. Manchester United is one of the most widely supported football clubs in the world,[15][16] and has rivalries with Liverpool, Manchester City, Arsenal and Leeds United.''',\n",
    "'''Manchester United won the 1878 league again in the 1999–2000 and 2000–01 seasons. The team finished third in 2001–02, before regaining the title in 2002–03.[54] They won the 2003 FA Cup, beating Millwall 3–0 in the final at the Millennium Stadium in Cardiff to lift the trophy for a record 11th time''']"
   ]
  },
  {
   "cell_type": "code",
   "execution_count": null,
   "metadata": {},
   "outputs": [],
   "source": [
    "inverted_index, DiceMatrix, gte_dictionary = Time_Matters_MultipleDoc(list_of_docs3, temporal_tagger=['py_heideltime'], time_matters=[1,10, 'full_document'], score_type='ByDoc')\n"
   ]
  },
  {
   "cell_type": "code",
   "execution_count": null,
   "metadata": {},
   "outputs": [],
   "source": [
    "DiceMatrix"
   ]
  },
  {
   "cell_type": "code",
   "execution_count": null,
   "metadata": {},
   "outputs": [],
   "source": [
    "from IPython.display import display"
   ]
  },
  {
   "cell_type": "code",
   "execution_count": 5,
   "metadata": {},
   "outputs": [
    {
     "data": {
      "text/html": [
       "<div>\n",
       "<style scoped>\n",
       "    .dataframe tbody tr th:only-of-type {\n",
       "        vertical-align: middle;\n",
       "    }\n",
       "\n",
       "    .dataframe tbody tr th {\n",
       "        vertical-align: top;\n",
       "    }\n",
       "\n",
       "    .dataframe thead th {\n",
       "        text-align: right;\n",
       "    }\n",
       "</style>\n",
       "<table border=\"1\" class=\"dataframe\">\n",
       "  <thead>\n",
       "    <tr style=\"text-align: right;\">\n",
       "      <th></th>\n",
       "      <th>london</th>\n",
       "      <th>thurs</th>\n",
       "      <th>children</th>\n",
       "      <th>beginning</th>\n",
       "      <th>evacuate</th>\n",
       "      <th>percy</th>\n",
       "      <th>officer</th>\n",
       "      <th>billeting</th>\n",
       "      <th>xxxx-08-31</th>\n",
       "      <th>present_ref</th>\n",
       "      <th>xxxx-xx-xx</th>\n",
       "    </tr>\n",
       "  </thead>\n",
       "  <tbody>\n",
       "    <tr>\n",
       "      <th>london</th>\n",
       "      <td>1</td>\n",
       "      <td>0</td>\n",
       "      <td>1</td>\n",
       "      <td>1</td>\n",
       "      <td>1</td>\n",
       "      <td>0</td>\n",
       "      <td>0</td>\n",
       "      <td>0</td>\n",
       "      <td>0</td>\n",
       "      <td>0</td>\n",
       "      <td>1</td>\n",
       "    </tr>\n",
       "    <tr>\n",
       "      <th>thurs</th>\n",
       "      <td>0</td>\n",
       "      <td>1</td>\n",
       "      <td>0</td>\n",
       "      <td>0</td>\n",
       "      <td>0</td>\n",
       "      <td>0</td>\n",
       "      <td>0</td>\n",
       "      <td>0</td>\n",
       "      <td>1</td>\n",
       "      <td>1</td>\n",
       "      <td>0</td>\n",
       "    </tr>\n",
       "    <tr>\n",
       "      <th>children</th>\n",
       "      <td>1</td>\n",
       "      <td>0</td>\n",
       "      <td>1</td>\n",
       "      <td>1</td>\n",
       "      <td>1</td>\n",
       "      <td>0</td>\n",
       "      <td>0</td>\n",
       "      <td>0</td>\n",
       "      <td>0</td>\n",
       "      <td>0</td>\n",
       "      <td>1</td>\n",
       "    </tr>\n",
       "    <tr>\n",
       "      <th>beginning</th>\n",
       "      <td>1</td>\n",
       "      <td>0</td>\n",
       "      <td>1</td>\n",
       "      <td>1</td>\n",
       "      <td>1</td>\n",
       "      <td>0</td>\n",
       "      <td>0</td>\n",
       "      <td>0</td>\n",
       "      <td>1</td>\n",
       "      <td>1</td>\n",
       "      <td>1</td>\n",
       "    </tr>\n",
       "    <tr>\n",
       "      <th>evacuate</th>\n",
       "      <td>1</td>\n",
       "      <td>0</td>\n",
       "      <td>1</td>\n",
       "      <td>1</td>\n",
       "      <td>1</td>\n",
       "      <td>0</td>\n",
       "      <td>0</td>\n",
       "      <td>0</td>\n",
       "      <td>0</td>\n",
       "      <td>1</td>\n",
       "      <td>1</td>\n",
       "    </tr>\n",
       "    <tr>\n",
       "      <th>percy</th>\n",
       "      <td>0</td>\n",
       "      <td>0</td>\n",
       "      <td>0</td>\n",
       "      <td>0</td>\n",
       "      <td>0</td>\n",
       "      <td>1</td>\n",
       "      <td>1</td>\n",
       "      <td>1</td>\n",
       "      <td>0</td>\n",
       "      <td>0</td>\n",
       "      <td>0</td>\n",
       "    </tr>\n",
       "    <tr>\n",
       "      <th>officer</th>\n",
       "      <td>0</td>\n",
       "      <td>0</td>\n",
       "      <td>0</td>\n",
       "      <td>0</td>\n",
       "      <td>0</td>\n",
       "      <td>1</td>\n",
       "      <td>1</td>\n",
       "      <td>1</td>\n",
       "      <td>0</td>\n",
       "      <td>0</td>\n",
       "      <td>0</td>\n",
       "    </tr>\n",
       "    <tr>\n",
       "      <th>billeting</th>\n",
       "      <td>0</td>\n",
       "      <td>0</td>\n",
       "      <td>0</td>\n",
       "      <td>0</td>\n",
       "      <td>0</td>\n",
       "      <td>1</td>\n",
       "      <td>1</td>\n",
       "      <td>1</td>\n",
       "      <td>0</td>\n",
       "      <td>0</td>\n",
       "      <td>0</td>\n",
       "    </tr>\n",
       "    <tr>\n",
       "      <th>xxxx-08-31</th>\n",
       "      <td>0</td>\n",
       "      <td>1</td>\n",
       "      <td>0</td>\n",
       "      <td>1</td>\n",
       "      <td>0</td>\n",
       "      <td>0</td>\n",
       "      <td>0</td>\n",
       "      <td>0</td>\n",
       "      <td>1</td>\n",
       "      <td>1</td>\n",
       "      <td>0</td>\n",
       "    </tr>\n",
       "    <tr>\n",
       "      <th>present_ref</th>\n",
       "      <td>0</td>\n",
       "      <td>1</td>\n",
       "      <td>0</td>\n",
       "      <td>1</td>\n",
       "      <td>1</td>\n",
       "      <td>0</td>\n",
       "      <td>0</td>\n",
       "      <td>0</td>\n",
       "      <td>1</td>\n",
       "      <td>1</td>\n",
       "      <td>0</td>\n",
       "    </tr>\n",
       "    <tr>\n",
       "      <th>xxxx-xx-xx</th>\n",
       "      <td>1</td>\n",
       "      <td>0</td>\n",
       "      <td>1</td>\n",
       "      <td>1</td>\n",
       "      <td>1</td>\n",
       "      <td>0</td>\n",
       "      <td>0</td>\n",
       "      <td>0</td>\n",
       "      <td>0</td>\n",
       "      <td>0</td>\n",
       "      <td>1</td>\n",
       "    </tr>\n",
       "  </tbody>\n",
       "</table>\n",
       "</div>"
      ],
      "text/plain": [
       "            london thurs children beginning evacuate percy officer billeting  \\\n",
       "london           1     0        1         1        1     0       0         0   \n",
       "thurs            0     1        0         0        0     0       0         0   \n",
       "children         1     0        1         1        1     0       0         0   \n",
       "beginning        1     0        1         1        1     0       0         0   \n",
       "evacuate         1     0        1         1        1     0       0         0   \n",
       "percy            0     0        0         0        0     1       1         1   \n",
       "officer          0     0        0         0        0     1       1         1   \n",
       "billeting        0     0        0         0        0     1       1         1   \n",
       "xxxx-08-31       0     1        0         1        0     0       0         0   \n",
       "present_ref      0     1        0         1        1     0       0         0   \n",
       "xxxx-xx-xx       1     0        1         1        1     0       0         0   \n",
       "\n",
       "            xxxx-08-31 present_ref xxxx-xx-xx  \n",
       "london               0           0          1  \n",
       "thurs                1           1          0  \n",
       "children             0           0          1  \n",
       "beginning            1           1          1  \n",
       "evacuate             0           1          1  \n",
       "percy                0           0          0  \n",
       "officer              0           0          0  \n",
       "billeting            0           0          0  \n",
       "xxxx-08-31           1           1          0  \n",
       "present_ref          1           1          0  \n",
       "xxxx-xx-xx           0           0          1  "
      ]
     },
     "metadata": {},
     "output_type": "display_data"
    }
   ],
   "source": [
    "import pandas as pd\n",
    "\n",
    "pd.options.display.max_columns = None\n",
    "display(DiceMatrix)"
   ]
  },
  {
   "cell_type": "code",
   "execution_count": 119,
   "metadata": {},
   "outputs": [
    {
     "data": {
      "text/plain": [
       "{'thurs': [1, 1, {0: [1, [0]]}],\n",
       " 'xxxx-08-31': [1, 1, {0: [1, [1]]}],\n",
       " 'present_ref': [1, 1, {0: [1, [3]]}],\n",
       " 'beginning': [1, 1, {0: [1, [7]]}],\n",
       " 'evacuate': [1, 1, {0: [1, [9]]}],\n",
       " 'london': [1, 1, {0: [1, [11]]}],\n",
       " 'children': [1, 1, {0: [1, [12]]}],\n",
       " 'xxxx-xx-xx': [1, 1, {0: [1, [13]]}],\n",
       " 'percy': [1, 1, {1: [1, [14]]}],\n",
       " 'billeting': [1, 1, {1: [1, [17]]}],\n",
       " 'officer': [1, 1, {1: [1, [18]]}]}"
      ]
     },
     "execution_count": 119,
     "metadata": {},
     "output_type": "execute_result"
    }
   ],
   "source": [
    "inverted_index"
   ]
  },
  {
   "cell_type": "code",
   "execution_count": null,
   "metadata": {},
   "outputs": [],
   "source": [
    "gte_dictionary"
   ]
  },
  {
   "cell_type": "code",
   "execution_count": 2,
   "metadata": {},
   "outputs": [],
   "source": [
    "from Time_Matters_SingleDoc import Time_Matters_SingleDoc"
   ]
  },
  {
   "cell_type": "code",
   "execution_count": 2,
   "metadata": {},
   "outputs": [],
   "source": [
    "t_file = open('boston marathon bombings_2.txt').read()"
   ]
  },
  {
   "cell_type": "code",
   "execution_count": 1,
   "metadata": {},
   "outputs": [],
   "source": [
    "textttt = '''\n",
    "Thurs August 31st - News today that they are beginning to evacuate the London children tomorrow. \n",
    "Percy is a billeting officer. I can't see that they will be much safer here.\n",
    "'''"
   ]
  },
  {
   "cell_type": "code",
   "execution_count": 3,
   "metadata": {},
   "outputs": [
    {
     "name": "stdout",
     "output_type": "stream",
     "text": [
      "xxxx-08-31\n",
      "['present_ref', 'beginning']\n",
      "thurs\n",
      "['present_ref', 'xxxx-08-31']\n",
      "date 4.0\n",
      "word 4.0\n",
      "WORD_DATE 4.0\n",
      "1.0\n",
      "\n",
      "\n",
      "xxxx-08-31\n",
      "['present_ref', 'beginning', 'thurs']\n",
      "beginning\n",
      "['xxxx-xx-xx', 'present_ref', 'xxxx-08-31']\n",
      "date 7.0\n",
      "word 5.0\n",
      "WORD_DATE 7.0\n",
      "1.4\n",
      "\n",
      "\n",
      "present_ref\n",
      "['xxxx-08-31', 'evacuate']\n",
      "thurs\n",
      "['present_ref', 'xxxx-08-31']\n",
      "date 2.0\n",
      "word 4.0\n",
      "WORD_DATE 3.0\n",
      "1.0\n",
      "\n",
      "\n",
      "present_ref\n",
      "['xxxx-08-31', 'evacuate', 'beginning', 'thurs']\n",
      "beginning\n",
      "['xxxx-xx-xx', 'present_ref', 'xxxx-08-31', 'evacuate']\n",
      "date 10.0\n",
      "word 10.0\n",
      "WORD_DATE 11.0\n",
      "1.2222222222222223\n",
      "\n",
      "\n",
      "present_ref\n",
      "['xxxx-08-31', 'evacuate', 'beginning', 'thurs']\n",
      "evacuate\n",
      "['xxxx-xx-xx', 'present_ref', 'beginning', 'children']\n",
      "date 10.0\n",
      "word 12.0\n",
      "WORD_DATE 11.0\n",
      "1.0\n",
      "\n",
      "\n",
      "xxxx-xx-xx\n",
      "['evacuate', 'beginning', 'children', 'london']\n",
      "london\n",
      "['xxxx-xx-xx', 'evacuate', 'beginning', 'children']\n",
      "date 16.0\n",
      "word 16.0\n",
      "WORD_DATE 16.0\n",
      "1.0\n",
      "\n",
      "\n",
      "xxxx-xx-xx\n",
      "['evacuate', 'beginning', 'children', 'london']\n",
      "children\n",
      "['xxxx-xx-xx', 'evacuate', 'beginning', 'london']\n",
      "date 16.0\n",
      "word 16.0\n",
      "WORD_DATE 16.0\n",
      "1.0\n",
      "\n",
      "\n",
      "xxxx-xx-xx\n",
      "['evacuate', 'beginning', 'children', 'london']\n",
      "beginning\n",
      "['xxxx-xx-xx', 'present_ref', 'xxxx-08-31', 'evacuate']\n",
      "date 16.0\n",
      "word 10.0\n",
      "WORD_DATE 11.0\n",
      "0.7333333333333333\n",
      "\n",
      "\n",
      "xxxx-xx-xx\n",
      "['evacuate', 'beginning', 'children', 'london']\n",
      "evacuate\n",
      "['xxxx-xx-xx', 'present_ref', 'beginning', 'children']\n",
      "date 16.0\n",
      "word 12.0\n",
      "WORD_DATE 14.0\n",
      "1.0\n",
      "\n",
      "\n",
      "{'xxxx-08-31': [1.2, ['August 31st']], 'present_ref': [1.0, ['today']], 'xxxx-xx-xx': [1.0, ['tomorrow']]}\n",
      "{'london': 0.05899937629682816, 'thurs': 0.06588837669267192, 'children': 0.0875971992647228, 'beginning': 0.11142476118001256, 'evacuate': 0.11142476118001256, 'percy': 0.250059511749331, 'officer': 0.250059511749331, 'billeting': 0.3033846052649951}\n",
      "<kw>thurs</kw> <d>XXXX-08-31</d> - News <d>PRESENT_REF</d> that they are <kw>beginning</kw> to <kw>evacuate</kw> the <kw>london</kw> <kw>children</kw> <d>XXXX-XX-XX</d>. <kw>percy</kw> is a <kw>billeting</kw> <kw>officer</kw>. I can't see that they will be much safer here.\n"
     ]
    }
   ],
   "source": [
    "Score, TempExpressions, RelevantKWs, TextNormalized, TextTokens, SentencesNormalized, SentencesTokens, inverted_index, DiceMatrix, ExecTimeDictionary = Time_Matters_SingleDoc(textttt, time_matters=[1,10, 6], temporal_tagger=['py_heideltime'], score_type='ByDoc', debug_mode=True)\n",
    "#print(TempExpressions)\n",
    "#print(inverted_index)\n",
    "print(Score)\n",
    "\n",
    "print(RelevantKWs)\n",
    "print(TextNormalized)\n",
    "#print(ExecTimeDictionary)"
   ]
  },
  {
   "cell_type": "code",
   "execution_count": 4,
   "metadata": {},
   "outputs": [
    {
     "data": {
      "text/plain": [
       "{'thurs': [1, 1, {0: [1, [0]]}],\n",
       " 'xxxx-08-31': [1, 1, {0: [1, [1]]}],\n",
       " 'present_ref': [1, 1, {0: [1, [3]]}],\n",
       " 'beginning': [1, 1, {0: [1, [7]]}],\n",
       " 'evacuate': [1, 1, {0: [1, [9]]}],\n",
       " 'london': [1, 1, {0: [1, [11]]}],\n",
       " 'children': [1, 1, {0: [1, [12]]}],\n",
       " 'xxxx-xx-xx': [1, 1, {0: [1, [13]]}],\n",
       " 'percy': [1, 1, {1: [1, [14]]}],\n",
       " 'billeting': [1, 1, {1: [1, [17]]}],\n",
       " 'officer': [1, 1, {1: [1, [18]]}]}"
      ]
     },
     "execution_count": 4,
     "metadata": {},
     "output_type": "execute_result"
    }
   ],
   "source": [
    "inverted_index"
   ]
  },
  {
   "cell_type": "code",
   "execution_count": 16,
   "metadata": {},
   "outputs": [],
   "source": [
    "from Time_Matters_SingleDoc import Time_Matters_SingleDoc\n",
    "\n",
    "Score, TempExpressions, RelevantKWs, TextNormalized, TextTokens, SentencesNormalized, SentencesTokens = Time_Matters_SingleDoc(t_file, temporal_tagger=['py_heideltime', 'English', 'year'])"
   ]
  },
  {
   "cell_type": "code",
   "execution_count": 17,
   "metadata": {},
   "outputs": [
    {
     "data": {
      "text/plain": [
       "{'beck': 0.010339056973039497,\n",
       " 'alharbi': 0.01284128974497305,\n",
       " 'public': 0.05150495009750439,\n",
       " 'marathon': 0.05861968809810476,\n",
       " 'boston': 0.06334468983447183,\n",
       " 'xxxx': 0.06668580826632936,\n",
       " 'ptxm': 0.06668580826632936,\n",
       " 'abdulrahman': 0.07074048706985818,\n",
       " 'figure': 0.09660954859111158,\n",
       " 'asked': 0.13234548219062622}"
      ]
     },
     "execution_count": 17,
     "metadata": {},
     "output_type": "execute_result"
    }
   ],
   "source": [
    "RelevantKWs"
   ]
  },
  {
   "cell_type": "code",
   "execution_count": 72,
   "metadata": {},
   "outputs": [],
   "source": [
    "text= \"2011 Haiti knowlage Earthquake Anniversary. 2002 2006 As of 2010 (see 1500 photos here), the following major earthquakes \"\\\n",
    "    \"have been recorded in Haiti. The first great earthquake mentioned in histories of Haiti occurred in \"\\\n",
    "    \"1564 in what was now still the Spanish colony. It destroyed Concepción de la Vega. On January 12, 2010, \"\\\n",
    "    \"a massive earthquake struck the nation of Haiti, causing catastrophic damage inside and around the \"\\\n",
    "    \"capital city of Port-au-Prince. On the first anniversary of the earthquake, 12 January 2011, \"\\\n",
    "    \"Haitian Prime Minister Jean-Max Bellerive said the death toll from the quake in 2010 was more \"\\\n",
    "    \"than 316,000, raising the figures in 2010 from previous estimates. I immediately flashed back to the afternoon \"\\\n",
    "    \"of February 11, 1975 when, on  my car radio, I first heard the news. Yesterday...\"\n"
   ]
  },
  {
   "cell_type": "code",
   "execution_count": 95,
   "metadata": {},
   "outputs": [
    {
     "data": {
      "text/plain": [
       "'2011 <kw>haiti knowlage earthquake</kw> Anniversary. 2002 2006 As of 2010 (see 1500 photos here), the following major earthquakes have been recorded in <kw>haiti</kw>. The first great <kw>earthquake</kw> mentioned in histories of <kw>haiti</kw> occurred in 1564 in what was now still the Spanish colony. It destroyed Concepción de la Vega. On January 12, 2010, a massive <kw>earthquake</kw> struck the nation of <kw>haiti</kw>, causing catastrophic damage inside and around the capital city of Port-au-Prince. On the first anniversary of the <kw>earthquake</kw>, 12 January 2011, <kw>haitian prime minister</kw> Jean-Max Bellerive said the death toll from the quake in 2010 was more than 316,000, raising the figures in 2010 from previous estimates. I immediately flashed back to the afternoon of February 11, 1975 when, on  my car radio, I first heard the news. Yesterday...'"
      ]
     },
     "execution_count": 95,
     "metadata": {},
     "output_type": "execute_result"
    }
   ],
   "source": [
    "\n",
    "text= \"2011 Haiti knowlage Earthquake Anniversary. 2002 2006 As of 2010 (see 1500 photos here), the following major earthquakes \"\\\n",
    "    \"have been recorded in Haiti. The first great earthquake mentioned in histories of Haiti occurred in \"\\\n",
    "    \"1564 in what was now still the Spanish colony. It destroyed Concepción de la Vega. On January 12, 2010, \"\\\n",
    "    \"a massive earthquake struck the nation of Haiti, causing catastrophic damage inside and around the \"\\\n",
    "    \"capital city of Port-au-Prince. On the first anniversary of the earthquake, 12 January 2011, \"\\\n",
    "    \"Haitian Prime Minister Jean-Max Bellerive said the death toll from the quake in 2010 was more \"\\\n",
    "    \"than 316,000, raising the figures in 2010 from previous estimates. I immediately flashed back to the afternoon \"\\\n",
    "    \"of February 11, 1975 when, on  my car radio, I first heard the news. Yesterday...\"\n",
    "relevant_kw_list = ['haiti knowlage earthquake', 'knowlage earthquake anniversary', 'haiti knowlage', 'haiti','knowlage earthquake', 'haitian prime minister', 'earthquake', 'great earthquake mentioned']\n",
    "n_gram = 3\n",
    "main(text, relevant_kw_list, n_gram)"
   ]
  },
  {
   "cell_type": "code",
   "execution_count": 58,
   "metadata": {},
   "outputs": [],
   "source": [
    "def replace_token(text_tokens, y, n_gram_word_list):\n",
    "    txt = ' '.join(text_tokens[y:y + len(n_gram_word_list[0].split(' '))])\n",
    "    old_expression = txt\n",
    "    new_expression = txt.replace(test_trans(old_expression), '<kw>' + n_gram_word_list[0] + '</kw>')\n",
    "    y += len(n_gram_word_list[0].split(' '))\n",
    "    return y, new_expression\n",
    "\n"
   ]
  },
  {
   "cell_type": "code",
   "execution_count": 57,
   "metadata": {},
   "outputs": [],
   "source": [
    "def find_more_relevant(y, text_tokens, n_gram, relevant_words_array, kw_list, splited_n_gram_word_list):\n",
    "\n",
    "    temporal_list = []\n",
    "    temporal_list_two = []\n",
    "\n",
    "    tmp = []\n",
    "    for i in range(n_gram):\n",
    "\n",
    "        temporal_list.append(text_tokens[y:y + i + 1])\n",
    "        k = test_trans(' '.join(temporal_list[i])).lower()\n",
    "        if k.lower() in relevant_words_array:\n",
    "            temporal_list_two.append(k)\n",
    "\n",
    "    n_gram_word_list = sorted(temporal_list_two, key=lambda x: relevant_words_array.index(x))\n",
    "    try:\n",
    "        kw_list.append(n_gram_word_list[0])\n",
    "        tmp.append(n_gram_word_list[0])\n",
    "        splited_n_gram_word_list.append(tmp[0].split())\n",
    "    except:\n",
    "        pass\n",
    "\n",
    "    return kw_list, splited_n_gram_word_list"
   ]
  },
  {
   "cell_type": "code",
   "execution_count": 56,
   "metadata": {},
   "outputs": [],
   "source": [
    "def format_text_n_gram_text(text, relevant_words_array, n_gram):\n",
    "    text_tokens = text.split(' ')\n",
    "    y = 0\n",
    "    final_splited_text = []\n",
    "    while y < len(text_tokens):\n",
    "\n",
    "        splited_n_gram_kw_list = []\n",
    "        n_gram_kw_list = []\n",
    "        n_gram_word_list, splited_n_gram_kw_list = find_more_relevant(y, text_tokens, n_gram, relevant_words_array, n_gram_kw_list, splited_n_gram_kw_list)\n",
    "\n",
    "        if n_gram_word_list:\n",
    "            kw_list = []\n",
    "            splited_n_gram_kw_list = []\n",
    "            splited_one = n_gram_kw_list[0].split()\n",
    "\n",
    "            for len_kw in range(0, len(splited_one)):\n",
    "                kw_list, splited_n_gram_kw_list = find_more_relevant(y+len_kw, text_tokens, n_gram, relevant_words_array, kw_list, splited_n_gram_kw_list)\n",
    "\n",
    "            min_score_word = min(kw_list, key=lambda x: relevant_words_array.index(x))\n",
    "\n",
    "            if kw_list.index(min_score_word) == 0 or len(splited_one) == 1:\n",
    "                term_list = [min_score_word]\n",
    "                y, new_expression = replace_token(text_tokens, y, term_list)\n",
    "                final_splited_text.append(new_expression)\n",
    "\n",
    "            elif kw_list.index(min_score_word) >= 1:\n",
    "                index_of_more_relevant = splited_n_gram_kw_list[0].index(min_score_word.split()[0])\n",
    "                temporal_kw = ' '.join(splited_n_gram_kw_list[0][:index_of_more_relevant])\n",
    "\n",
    "                if temporal_kw.lower() in relevant_words_array:\n",
    "                    term_list = [temporal_kw]\n",
    "                    y, new_expression = replace_token(text_tokens, y, term_list)\n",
    "                    final_splited_text.append(new_expression)\n",
    "\n",
    "                else:\n",
    "                    final_splited_text.append(text_tokens[y])\n",
    "                    y += kw_list.index(min_score_word)\n",
    "\n",
    "        else:\n",
    "            final_splited_text.append(text_tokens[y])\n",
    "            y += 1\n",
    "    new_text = ' '.join(final_splited_text)\n",
    "\n",
    "    return new_text\n"
   ]
  },
  {
   "cell_type": "code",
   "execution_count": 89,
   "metadata": {},
   "outputs": [],
   "source": [
    "def format_one_gram_text(text, relevant_words_array):\n",
    "    text_tokens = text.split(' ')\n",
    "    try:\n",
    "        for tk in range(len(text_tokens)):\n",
    "            kw = test_trans(text_tokens[tk])\n",
    "            if kw.lower() in relevant_words_array and kw.lower():\n",
    "                text_tokens[tk] = text_tokens[tk].replace(kw, '<kw>' + kw.lower() + '</kw>')\n",
    "    except:\n",
    "        pass\n",
    "    new_text = ' '.join(text_tokens)\n",
    "    return new_text"
   ]
  },
  {
   "cell_type": "code",
   "execution_count": 54,
   "metadata": {},
   "outputs": [],
   "source": [
    "def test_trans(text):\n",
    "    return text.translate(str.maketrans('', '', '!,:.;?()\\n'))"
   ]
  },
  {
   "cell_type": "code",
   "execution_count": 92,
   "metadata": {},
   "outputs": [],
   "source": [
    "def main(text, relevant_kw_list, n_gram):\n",
    "    new_text = text\n",
    "\n",
    "    if n_gram > 1:\n",
    "        new_text = format_text_n_gram_text(new_text, relevant_kw_list, n_gram)\n",
    "    else:\n",
    "        new_text = format_one_gram_text(new_text, relevant_kw_list)\n",
    "\n",
    "    return new_text"
   ]
  },
  {
   "cell_type": "code",
   "execution_count": 94,
   "metadata": {
    "scrolled": true
   },
   "outputs": [
    {
     "data": {
      "text/plain": [
       "'2011 <kw>haiti knowlage earthquake</kw> Anniversary. 2002 2006 As of 2010 (see 1500 photos here), the following major earthquakes have been recorded in <kw>haiti</kw>. The first great <kw>earthquake</kw> mentioned in histories of <kw>haiti</kw> occurred in 1564 in what was now still the Spanish colony. It destroyed Concepción de la Vega. On January 12, 2010, a massive <kw>earthquake</kw> struck the nation of <kw>haiti</kw>, causing catastrophic damage inside and around the capital city of Port-au-Prince. On the first anniversary of the <kw>earthquake</kw>, 12 January 2011, <kw>haitian prime minister</kw> Jean-Max Bellerive said the death toll from the quake in 2010 was more than 316,000, raising the figures in 2010 from previous estimates. I immediately flashed back to the afternoon of February 11, 1975 when, on  my car radio, I first heard the news. Yesterday...'"
      ]
     },
     "execution_count": 94,
     "metadata": {},
     "output_type": "execute_result"
    }
   ],
   "source": [
    "\n"
   ]
  }
 ],
 "metadata": {
  "kernelspec": {
   "display_name": "Python 3",
   "language": "python",
   "name": "python3"
  },
  "language_info": {
   "codemirror_mode": {
    "name": "ipython",
    "version": 3
   },
   "file_extension": ".py",
   "mimetype": "text/x-python",
   "name": "python",
   "nbconvert_exporter": "python",
   "pygments_lexer": "ipython3",
   "version": "3.7.3"
  }
 },
 "nbformat": 4,
 "nbformat_minor": 2
}
